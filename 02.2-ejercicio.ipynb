{
 "cells": [
  {
   "cell_type": "code",
   "execution_count": 4,
   "metadata": {},
   "outputs": [
    {
     "name": "stdout",
     "output_type": "stream",
     "text": [
      "l: [66, 32, 51, 42, 82, 2, 52, 96, 87, 4, 97, 85, 80, 84, 7, 66, 35, 76, 81, 51, 68, 46, 33, 90, 35, 17, 8, 2, 7, 80, 17, 74, 15, 31, 84, 68, 51, 17, 11, 39, 66, 22, 80, 54, 75, 25, 47, 72, 23, 25, 71, 23, 61, 69, 83, 53, 9, 1, 0, 27, 85, 16, 48, 91, 59, 53, 95, 89, 98, 64, 36, 39, 62, 5, 30, 44, 46, 79, 86, 54, 23, 83, 18, 3, 19, 11, 95, 99, 18, 46, 22, 46, 85, 8, 8, 21, 20, 44, 86, 45]\n",
      "\n",
      "m: [53, 12, 21, 73, 28, 93, 33, 2, 37, 43, 54, 95, 43, 32, 92, 13, 90, 92, 15, 10, 95, 85, 95, 82, 69, 75, 16, 95, 81, 59, 9, 86, 59, 14, 6, 82, 5, 73, 20, 15, 10, 58, 17, 71, 59, 16, 29, 61, 38, 80, 29, 94, 42, 68, 57, 81, 33, 20, 72, 22, 45, 46, 77, 90, 39, 97, 12, 37, 94, 86, 21, 60, 87, 73, 79, 68, 88, 45, 26, 45, 91, 22, 96, 9, 18, 51, 30, 44, 95, 81, 29, 6, 14, 77, 81, 43, 88, 96, 1, 49]\n",
      "[0, 3, 4, 7, 8, 11, 19, 23, 25, 27, 31, 35, 36, 47, 48, 52, 62, 64, 66, 74, 76, 83, 84, 89, 98, 99]\n"
     ]
    }
   ],
   "source": [
    "# Escribir el codigo necesario para generar una lista que contenga\n",
    "# los elementos de l que no están en m\n",
    "\n",
    "import random\n",
    "\n",
    "l = [int(100*random.random()) for i in range(100)]\n",
    "m = [int(100*random.random()) for i in range(100)]\n",
    "\n",
    "print(\"l:\", l)\n",
    "print()\n",
    "print(\"m:\", m)\n",
    "\n",
    "# Escribe aquí el código\n",
    "\n",
    "print(list(set(l).difference(m)))\n",
    "        \n",
    "\n"
   ]
  },
  {
   "cell_type": "code",
   "execution_count": 9,
   "metadata": {},
   "outputs": [
    {
     "name": "stdout",
     "output_type": "stream",
     "text": [
      "[0, 1, 1, 2, 3, 5, 8, 13, 21, 34, 55, 89, 144, 233, 377, 610, 987, 1597, 2584, 4181, 6765]\n"
     ]
    }
   ],
   "source": [
    "# Escribir el código necesario para calcular la sucesión de Fibonacci\n",
    "# para los \"n\" primeros términos, utilizando el esqueleto siguiente\n",
    "\n",
    "n = 20\n",
    "\n",
    "fib = [0, 1]  # Los dos primeros valores de la sucesión.\n",
    "\n",
    "# Escribe aquí el código\n",
    "len(fib)\n",
    "while len(fib)<=20:\n",
    "    fib.append(fib[len(fib)-1]+fib[len(fib)-2])\n",
    "    \n",
    "print(fib)\n",
    "\n",
    "\n"
   ]
  },
  {
   "cell_type": "code",
   "execution_count": 15,
   "metadata": {},
   "outputs": [
    {
     "name": "stdout",
     "output_type": "stream",
     "text": [
      "I will cheer for you! Enter a word: hola\n",
      "Enthusiasm level (1-10): 3\n",
      "Give me an h! h\n",
      "Give me an o! o\n",
      "Give me an l! l\n",
      "Give me an a! a\n",
      "What does that spell?\n",
      "hola !!!\n",
      "hola !!!\n",
      "hola !!!\n"
     ]
    }
   ],
   "source": [
    "# El siguiente código hace uso de un bucle while, cuando\n",
    "# no es necesario. Escribir el código utilizando un bucle for\n",
    "\n",
    "an_letters = \"aefhilmnorsxAEFHILMNORSX\"\n",
    "word = input(\"I will cheer for you! Enter a word: \")  # Input nos pide que introduzcamos un valor por consola\n",
    "times = int(input(\"Enthusiasm level (1-10): \"))  # El valor es siempre un string, pero necesitamos un entero,\n",
    "                                                 # \"int()\" lo convierte a entero\n",
    "\n",
    "for char in word:\n",
    "    if char in an_letters:\n",
    "        print(\"Give me an \" + char + \"! \" + char)\n",
    "    else:\n",
    "        print(\"Give me a  \" + char + \"! \" + char)\n",
    "    \n",
    "print(\"What does that spell?\")\n",
    "for i in range(times):\n",
    "    print(word, \"!!!\")"
   ]
  },
  {
   "cell_type": "code",
   "execution_count": 25,
   "metadata": {},
   "outputs": [
    {
     "name": "stdout",
     "output_type": "stream",
     "text": [
      "l: [1, 2, 3, 4, 5]\n",
      "m: [5, 4, 3, 2, 1]\n"
     ]
    }
   ],
   "source": [
    "# El siguiente código debería crear una lista \"m\"\n",
    "# que contiene los elementos de \"l\" en orden inverso,\n",
    "# pero contiene errores.\n",
    "\n",
    "l = [1, 2, 3, 4, 5]\n",
    "\n",
    "m = l[:] #es una copia, pero son diferentes\n",
    "for i in range(len(m)//2):\n",
    "    j = len(m) - i -1 \n",
    "    temp = m[i]\n",
    "    m[i] = m[j]\n",
    "    m[j] = temp\n",
    "    \n",
    "print(\"l:\", l)\n",
    "print(\"m:\", m)"
   ]
  },
  {
   "cell_type": "code",
   "execution_count": 41,
   "metadata": {},
   "outputs": [
    {
     "name": "stdout",
     "output_type": "stream",
     "text": [
      "[2, 3, 5, 7]\n"
     ]
    }
   ],
   "source": [
    "# El siguiente código debería obtener los números primos que\n",
    "# existan hasta \"n\", incluyendo \"n\", pero contiene errores.\n",
    "\n",
    "n = 10\n",
    "\n",
    "# Inicializo la lista de numeros primos\n",
    "primos = [2]\n",
    "    \n",
    "# Itero sobre los numeros\n",
    "for i in range(2, n+1):\n",
    "    # go through each of 2...n\n",
    "    for j in primos:\n",
    "        # check if not divisible by elem of list\n",
    "        if i % j == 0:\n",
    "            break\n",
    "    else:\n",
    "        primos.append(i)\n",
    "    \n",
    "print(primos)"
   ]
  },
  {
   "cell_type": "code",
   "execution_count": null,
   "metadata": {},
   "outputs": [],
   "source": []
  }
 ],
 "metadata": {
  "kernelspec": {
   "display_name": "Python 3",
   "language": "python",
   "name": "python3"
  },
  "language_info": {
   "codemirror_mode": {
    "name": "ipython",
    "version": 3
   },
   "file_extension": ".py",
   "mimetype": "text/x-python",
   "name": "python",
   "nbconvert_exporter": "python",
   "pygments_lexer": "ipython3",
   "version": "3.6.5"
  }
 },
 "nbformat": 4,
 "nbformat_minor": 2
}
