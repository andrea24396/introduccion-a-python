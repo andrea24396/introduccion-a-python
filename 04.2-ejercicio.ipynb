{
 "cells": [
  {
   "cell_type": "markdown",
   "metadata": {},
   "source": [
    "* El código del Ejercicio 3 estaba todo en un único fichero\n",
    "* Mover las funciones, variables, etc. que sean necesarias a un fichero llamado `lyrics.py`\n",
    "* Mover la definición de las canciones a `example_songs.py`\n",
    "* De forma que se pueda importar y ejecutar de la siguiente forma."
   ]
  },
  {
   "cell_type": "code",
   "execution_count": 4,
   "metadata": {},
   "outputs": [
    {
     "name": "stdout",
     "output_type": "stream",
     "text": [
      "Palabras más frecuentes con más de 10 apariciones.\n",
      "[(22, ['que']), (15, ['tu', 'a']), (12, ['quiero']), (10, ['despacito', 'sube'])]\n",
      "\n",
      "\n",
      "Palabras más frecuentes con más de 10 apariciones.\n",
      "[(22, ['que']), (15, ['tu', 'a']), (12, ['quiero']), (10, ['despacito', 'sube']), (9, ['y', 'de', 'favoritos']), (8, ['te', 'tus', 'pasito', 'poquito']), (6, ['oh', 'el', 'mi']), (5, ['no', 'un', 'yo', 'vamos'])]\n"
     ]
    }
   ],
   "source": [
    "import lyrics\n",
    "import songs\n",
    "\n",
    "#si se hacen cambios en el modulo, hay que reiniciar el kernel\n",
    "#o bien:\n",
    "#import importlib\n",
    "#importlib.reload(lyrics)\n",
    "\n",
    "words_clean = lyrics.split_into_words(songs.despacito)\n",
    "\n",
    "freqs = lyrics.words_to_frequencies(words_clean)\n",
    "\n",
    "print(\"Palabras más frecuentes con más de 10 apariciones.\")\n",
    "print(lyrics.get_more_often_user_words(freqs))\n",
    "print(\"\\n\")\n",
    "print(\"Palabras más frecuentes con más de 10 apariciones.\")\n",
    "print(lyrics.get_more_often_user_words(freqs, threshold=5))"
   ]
  },
  {
   "cell_type": "code",
   "execution_count": 3,
   "metadata": {},
   "outputs": [
    {
     "ename": "SyntaxError",
     "evalue": "invalid syntax (<ipython-input-3-a751f19936b6>, line 1)",
     "output_type": "error",
     "traceback": [
      "\u001b[0;36m  File \u001b[0;32m\"<ipython-input-3-a751f19936b6>\"\u001b[0;36m, line \u001b[0;32m1\u001b[0m\n\u001b[0;31m    imporlib.\u001b[0m\n\u001b[0m             ^\u001b[0m\n\u001b[0;31mSyntaxError\u001b[0m\u001b[0;31m:\u001b[0m invalid syntax\n"
     ]
    }
   ],
   "source": [
    "imporlib."
   ]
  }
 ],
 "metadata": {
  "kernelspec": {
   "display_name": "Python 3",
   "language": "python",
   "name": "python3"
  },
  "language_info": {
   "codemirror_mode": {
    "name": "ipython",
    "version": 3
   },
   "file_extension": ".py",
   "mimetype": "text/x-python",
   "name": "python",
   "nbconvert_exporter": "python",
   "pygments_lexer": "ipython3",
   "version": "3.6.5"
  }
 },
 "nbformat": 4,
 "nbformat_minor": 2
}
